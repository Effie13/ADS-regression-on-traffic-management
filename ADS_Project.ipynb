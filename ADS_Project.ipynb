{
 "cells": [
  {
   "cell_type": "markdown",
   "metadata": {},
   "source": [
    "### Study the scalability and effectiveness of different regression methods in the domain of traﬀic management."
   ]
  },
  {
   "cell_type": "markdown",
   "metadata": {},
   "source": [
    "#### Pitaouli_Eftychia (2022202004019), Kratimenos_Efstathios (2022202004008), Vakouftsis_Athanasios  (2022202004002), Lertas_Giorgos (2022202004010)"
   ]
  },
  {
   "cell_type": "code",
   "execution_count": 10,
   "metadata": {},
   "outputs": [],
   "source": [
    "import numpy as np\n",
    "import pandas as pd\n",
    "\n",
    "import seaborn as sns\n",
    "import matplotlib.pyplot as plt\n",
    "from matplotlib import cm\n",
    "%matplotlib inline\n",
    "\n",
    "from datetime import datetime\n",
    "\n",
    "import warnings\n",
    "warnings.filterwarnings('ignore')"
   ]
  },
  {
   "cell_type": "code",
   "execution_count": 11,
   "metadata": {},
   "outputs": [],
   "source": [
    "df = pd.read_csv('flights.csv')"
   ]
  },
  {
   "cell_type": "code",
   "execution_count": 12,
   "metadata": {},
   "outputs": [
    {
     "data": {
      "text/html": [
       "<div>\n",
       "<style scoped>\n",
       "    .dataframe tbody tr th:only-of-type {\n",
       "        vertical-align: middle;\n",
       "    }\n",
       "\n",
       "    .dataframe tbody tr th {\n",
       "        vertical-align: top;\n",
       "    }\n",
       "\n",
       "    .dataframe thead th {\n",
       "        text-align: right;\n",
       "    }\n",
       "</style>\n",
       "<table border=\"1\" class=\"dataframe\">\n",
       "  <thead>\n",
       "    <tr style=\"text-align: right;\">\n",
       "      <th></th>\n",
       "      <th>YEAR</th>\n",
       "      <th>MONTH</th>\n",
       "      <th>DAY</th>\n",
       "      <th>DAY_OF_WEEK</th>\n",
       "      <th>AIRLINE</th>\n",
       "      <th>FLIGHT_NUMBER</th>\n",
       "      <th>TAIL_NUMBER</th>\n",
       "      <th>ORIGIN_AIRPORT</th>\n",
       "      <th>DESTINATION_AIRPORT</th>\n",
       "      <th>SCHEDULED_DEPARTURE</th>\n",
       "      <th>...</th>\n",
       "      <th>ARRIVAL_TIME</th>\n",
       "      <th>ARRIVAL_DELAY</th>\n",
       "      <th>DIVERTED</th>\n",
       "      <th>CANCELLED</th>\n",
       "      <th>CANCELLATION_REASON</th>\n",
       "      <th>AIR_SYSTEM_DELAY</th>\n",
       "      <th>SECURITY_DELAY</th>\n",
       "      <th>AIRLINE_DELAY</th>\n",
       "      <th>LATE_AIRCRAFT_DELAY</th>\n",
       "      <th>WEATHER_DELAY</th>\n",
       "    </tr>\n",
       "  </thead>\n",
       "  <tbody>\n",
       "    <tr>\n",
       "      <th>0</th>\n",
       "      <td>2015</td>\n",
       "      <td>1</td>\n",
       "      <td>1</td>\n",
       "      <td>4</td>\n",
       "      <td>AS</td>\n",
       "      <td>98</td>\n",
       "      <td>N407AS</td>\n",
       "      <td>ANC</td>\n",
       "      <td>SEA</td>\n",
       "      <td>5</td>\n",
       "      <td>...</td>\n",
       "      <td>408.0</td>\n",
       "      <td>-22.0</td>\n",
       "      <td>0</td>\n",
       "      <td>0</td>\n",
       "      <td>NaN</td>\n",
       "      <td>NaN</td>\n",
       "      <td>NaN</td>\n",
       "      <td>NaN</td>\n",
       "      <td>NaN</td>\n",
       "      <td>NaN</td>\n",
       "    </tr>\n",
       "    <tr>\n",
       "      <th>1</th>\n",
       "      <td>2015</td>\n",
       "      <td>1</td>\n",
       "      <td>1</td>\n",
       "      <td>4</td>\n",
       "      <td>AA</td>\n",
       "      <td>2336</td>\n",
       "      <td>N3KUAA</td>\n",
       "      <td>LAX</td>\n",
       "      <td>PBI</td>\n",
       "      <td>10</td>\n",
       "      <td>...</td>\n",
       "      <td>741.0</td>\n",
       "      <td>-9.0</td>\n",
       "      <td>0</td>\n",
       "      <td>0</td>\n",
       "      <td>NaN</td>\n",
       "      <td>NaN</td>\n",
       "      <td>NaN</td>\n",
       "      <td>NaN</td>\n",
       "      <td>NaN</td>\n",
       "      <td>NaN</td>\n",
       "    </tr>\n",
       "    <tr>\n",
       "      <th>2</th>\n",
       "      <td>2015</td>\n",
       "      <td>1</td>\n",
       "      <td>1</td>\n",
       "      <td>4</td>\n",
       "      <td>US</td>\n",
       "      <td>840</td>\n",
       "      <td>N171US</td>\n",
       "      <td>SFO</td>\n",
       "      <td>CLT</td>\n",
       "      <td>20</td>\n",
       "      <td>...</td>\n",
       "      <td>811.0</td>\n",
       "      <td>5.0</td>\n",
       "      <td>0</td>\n",
       "      <td>0</td>\n",
       "      <td>NaN</td>\n",
       "      <td>NaN</td>\n",
       "      <td>NaN</td>\n",
       "      <td>NaN</td>\n",
       "      <td>NaN</td>\n",
       "      <td>NaN</td>\n",
       "    </tr>\n",
       "    <tr>\n",
       "      <th>3</th>\n",
       "      <td>2015</td>\n",
       "      <td>1</td>\n",
       "      <td>1</td>\n",
       "      <td>4</td>\n",
       "      <td>AA</td>\n",
       "      <td>258</td>\n",
       "      <td>N3HYAA</td>\n",
       "      <td>LAX</td>\n",
       "      <td>MIA</td>\n",
       "      <td>20</td>\n",
       "      <td>...</td>\n",
       "      <td>756.0</td>\n",
       "      <td>-9.0</td>\n",
       "      <td>0</td>\n",
       "      <td>0</td>\n",
       "      <td>NaN</td>\n",
       "      <td>NaN</td>\n",
       "      <td>NaN</td>\n",
       "      <td>NaN</td>\n",
       "      <td>NaN</td>\n",
       "      <td>NaN</td>\n",
       "    </tr>\n",
       "    <tr>\n",
       "      <th>4</th>\n",
       "      <td>2015</td>\n",
       "      <td>1</td>\n",
       "      <td>1</td>\n",
       "      <td>4</td>\n",
       "      <td>AS</td>\n",
       "      <td>135</td>\n",
       "      <td>N527AS</td>\n",
       "      <td>SEA</td>\n",
       "      <td>ANC</td>\n",
       "      <td>25</td>\n",
       "      <td>...</td>\n",
       "      <td>259.0</td>\n",
       "      <td>-21.0</td>\n",
       "      <td>0</td>\n",
       "      <td>0</td>\n",
       "      <td>NaN</td>\n",
       "      <td>NaN</td>\n",
       "      <td>NaN</td>\n",
       "      <td>NaN</td>\n",
       "      <td>NaN</td>\n",
       "      <td>NaN</td>\n",
       "    </tr>\n",
       "    <tr>\n",
       "      <th>...</th>\n",
       "      <td>...</td>\n",
       "      <td>...</td>\n",
       "      <td>...</td>\n",
       "      <td>...</td>\n",
       "      <td>...</td>\n",
       "      <td>...</td>\n",
       "      <td>...</td>\n",
       "      <td>...</td>\n",
       "      <td>...</td>\n",
       "      <td>...</td>\n",
       "      <td>...</td>\n",
       "      <td>...</td>\n",
       "      <td>...</td>\n",
       "      <td>...</td>\n",
       "      <td>...</td>\n",
       "      <td>...</td>\n",
       "      <td>...</td>\n",
       "      <td>...</td>\n",
       "      <td>...</td>\n",
       "      <td>...</td>\n",
       "      <td>...</td>\n",
       "    </tr>\n",
       "    <tr>\n",
       "      <th>5819074</th>\n",
       "      <td>2015</td>\n",
       "      <td>12</td>\n",
       "      <td>31</td>\n",
       "      <td>4</td>\n",
       "      <td>B6</td>\n",
       "      <td>688</td>\n",
       "      <td>N657JB</td>\n",
       "      <td>LAX</td>\n",
       "      <td>BOS</td>\n",
       "      <td>2359</td>\n",
       "      <td>...</td>\n",
       "      <td>753.0</td>\n",
       "      <td>-26.0</td>\n",
       "      <td>0</td>\n",
       "      <td>0</td>\n",
       "      <td>NaN</td>\n",
       "      <td>NaN</td>\n",
       "      <td>NaN</td>\n",
       "      <td>NaN</td>\n",
       "      <td>NaN</td>\n",
       "      <td>NaN</td>\n",
       "    </tr>\n",
       "    <tr>\n",
       "      <th>5819075</th>\n",
       "      <td>2015</td>\n",
       "      <td>12</td>\n",
       "      <td>31</td>\n",
       "      <td>4</td>\n",
       "      <td>B6</td>\n",
       "      <td>745</td>\n",
       "      <td>N828JB</td>\n",
       "      <td>JFK</td>\n",
       "      <td>PSE</td>\n",
       "      <td>2359</td>\n",
       "      <td>...</td>\n",
       "      <td>430.0</td>\n",
       "      <td>-16.0</td>\n",
       "      <td>0</td>\n",
       "      <td>0</td>\n",
       "      <td>NaN</td>\n",
       "      <td>NaN</td>\n",
       "      <td>NaN</td>\n",
       "      <td>NaN</td>\n",
       "      <td>NaN</td>\n",
       "      <td>NaN</td>\n",
       "    </tr>\n",
       "    <tr>\n",
       "      <th>5819076</th>\n",
       "      <td>2015</td>\n",
       "      <td>12</td>\n",
       "      <td>31</td>\n",
       "      <td>4</td>\n",
       "      <td>B6</td>\n",
       "      <td>1503</td>\n",
       "      <td>N913JB</td>\n",
       "      <td>JFK</td>\n",
       "      <td>SJU</td>\n",
       "      <td>2359</td>\n",
       "      <td>...</td>\n",
       "      <td>432.0</td>\n",
       "      <td>-8.0</td>\n",
       "      <td>0</td>\n",
       "      <td>0</td>\n",
       "      <td>NaN</td>\n",
       "      <td>NaN</td>\n",
       "      <td>NaN</td>\n",
       "      <td>NaN</td>\n",
       "      <td>NaN</td>\n",
       "      <td>NaN</td>\n",
       "    </tr>\n",
       "    <tr>\n",
       "      <th>5819077</th>\n",
       "      <td>2015</td>\n",
       "      <td>12</td>\n",
       "      <td>31</td>\n",
       "      <td>4</td>\n",
       "      <td>B6</td>\n",
       "      <td>333</td>\n",
       "      <td>N527JB</td>\n",
       "      <td>MCO</td>\n",
       "      <td>SJU</td>\n",
       "      <td>2359</td>\n",
       "      <td>...</td>\n",
       "      <td>330.0</td>\n",
       "      <td>-10.0</td>\n",
       "      <td>0</td>\n",
       "      <td>0</td>\n",
       "      <td>NaN</td>\n",
       "      <td>NaN</td>\n",
       "      <td>NaN</td>\n",
       "      <td>NaN</td>\n",
       "      <td>NaN</td>\n",
       "      <td>NaN</td>\n",
       "    </tr>\n",
       "    <tr>\n",
       "      <th>5819078</th>\n",
       "      <td>2015</td>\n",
       "      <td>12</td>\n",
       "      <td>31</td>\n",
       "      <td>4</td>\n",
       "      <td>B6</td>\n",
       "      <td>839</td>\n",
       "      <td>N534JB</td>\n",
       "      <td>JFK</td>\n",
       "      <td>BQN</td>\n",
       "      <td>2359</td>\n",
       "      <td>...</td>\n",
       "      <td>442.0</td>\n",
       "      <td>2.0</td>\n",
       "      <td>0</td>\n",
       "      <td>0</td>\n",
       "      <td>NaN</td>\n",
       "      <td>NaN</td>\n",
       "      <td>NaN</td>\n",
       "      <td>NaN</td>\n",
       "      <td>NaN</td>\n",
       "      <td>NaN</td>\n",
       "    </tr>\n",
       "  </tbody>\n",
       "</table>\n",
       "<p>5819079 rows × 31 columns</p>\n",
       "</div>"
      ],
      "text/plain": [
       "         YEAR  MONTH  DAY  DAY_OF_WEEK AIRLINE  FLIGHT_NUMBER TAIL_NUMBER  \\\n",
       "0        2015      1    1            4      AS             98      N407AS   \n",
       "1        2015      1    1            4      AA           2336      N3KUAA   \n",
       "2        2015      1    1            4      US            840      N171US   \n",
       "3        2015      1    1            4      AA            258      N3HYAA   \n",
       "4        2015      1    1            4      AS            135      N527AS   \n",
       "...       ...    ...  ...          ...     ...            ...         ...   \n",
       "5819074  2015     12   31            4      B6            688      N657JB   \n",
       "5819075  2015     12   31            4      B6            745      N828JB   \n",
       "5819076  2015     12   31            4      B6           1503      N913JB   \n",
       "5819077  2015     12   31            4      B6            333      N527JB   \n",
       "5819078  2015     12   31            4      B6            839      N534JB   \n",
       "\n",
       "        ORIGIN_AIRPORT DESTINATION_AIRPORT  SCHEDULED_DEPARTURE  ...  \\\n",
       "0                  ANC                 SEA                    5  ...   \n",
       "1                  LAX                 PBI                   10  ...   \n",
       "2                  SFO                 CLT                   20  ...   \n",
       "3                  LAX                 MIA                   20  ...   \n",
       "4                  SEA                 ANC                   25  ...   \n",
       "...                ...                 ...                  ...  ...   \n",
       "5819074            LAX                 BOS                 2359  ...   \n",
       "5819075            JFK                 PSE                 2359  ...   \n",
       "5819076            JFK                 SJU                 2359  ...   \n",
       "5819077            MCO                 SJU                 2359  ...   \n",
       "5819078            JFK                 BQN                 2359  ...   \n",
       "\n",
       "         ARRIVAL_TIME  ARRIVAL_DELAY  DIVERTED  CANCELLED  \\\n",
       "0               408.0          -22.0         0          0   \n",
       "1               741.0           -9.0         0          0   \n",
       "2               811.0            5.0         0          0   \n",
       "3               756.0           -9.0         0          0   \n",
       "4               259.0          -21.0         0          0   \n",
       "...               ...            ...       ...        ...   \n",
       "5819074         753.0          -26.0         0          0   \n",
       "5819075         430.0          -16.0         0          0   \n",
       "5819076         432.0           -8.0         0          0   \n",
       "5819077         330.0          -10.0         0          0   \n",
       "5819078         442.0            2.0         0          0   \n",
       "\n",
       "         CANCELLATION_REASON  AIR_SYSTEM_DELAY  SECURITY_DELAY  AIRLINE_DELAY  \\\n",
       "0                        NaN               NaN             NaN            NaN   \n",
       "1                        NaN               NaN             NaN            NaN   \n",
       "2                        NaN               NaN             NaN            NaN   \n",
       "3                        NaN               NaN             NaN            NaN   \n",
       "4                        NaN               NaN             NaN            NaN   \n",
       "...                      ...               ...             ...            ...   \n",
       "5819074                  NaN               NaN             NaN            NaN   \n",
       "5819075                  NaN               NaN             NaN            NaN   \n",
       "5819076                  NaN               NaN             NaN            NaN   \n",
       "5819077                  NaN               NaN             NaN            NaN   \n",
       "5819078                  NaN               NaN             NaN            NaN   \n",
       "\n",
       "         LATE_AIRCRAFT_DELAY  WEATHER_DELAY  \n",
       "0                        NaN            NaN  \n",
       "1                        NaN            NaN  \n",
       "2                        NaN            NaN  \n",
       "3                        NaN            NaN  \n",
       "4                        NaN            NaN  \n",
       "...                      ...            ...  \n",
       "5819074                  NaN            NaN  \n",
       "5819075                  NaN            NaN  \n",
       "5819076                  NaN            NaN  \n",
       "5819077                  NaN            NaN  \n",
       "5819078                  NaN            NaN  \n",
       "\n",
       "[5819079 rows x 31 columns]"
      ]
     },
     "execution_count": 12,
     "metadata": {},
     "output_type": "execute_result"
    }
   ],
   "source": [
    "df"
   ]
  },
  {
   "cell_type": "code",
   "execution_count": 13,
   "metadata": {},
   "outputs": [
    {
     "name": "stdout",
     "output_type": "stream",
     "text": [
      "<class 'pandas.core.frame.DataFrame'>\n",
      "RangeIndex: 5819079 entries, 0 to 5819078\n",
      "Data columns (total 31 columns):\n",
      " #   Column               Dtype  \n",
      "---  ------               -----  \n",
      " 0   YEAR                 int64  \n",
      " 1   MONTH                int64  \n",
      " 2   DAY                  int64  \n",
      " 3   DAY_OF_WEEK          int64  \n",
      " 4   AIRLINE              object \n",
      " 5   FLIGHT_NUMBER        int64  \n",
      " 6   TAIL_NUMBER          object \n",
      " 7   ORIGIN_AIRPORT       object \n",
      " 8   DESTINATION_AIRPORT  object \n",
      " 9   SCHEDULED_DEPARTURE  int64  \n",
      " 10  DEPARTURE_TIME       float64\n",
      " 11  DEPARTURE_DELAY      float64\n",
      " 12  TAXI_OUT             float64\n",
      " 13  WHEELS_OFF           float64\n",
      " 14  SCHEDULED_TIME       float64\n",
      " 15  ELAPSED_TIME         float64\n",
      " 16  AIR_TIME             float64\n",
      " 17  DISTANCE             int64  \n",
      " 18  WHEELS_ON            float64\n",
      " 19  TAXI_IN              float64\n",
      " 20  SCHEDULED_ARRIVAL    int64  \n",
      " 21  ARRIVAL_TIME         float64\n",
      " 22  ARRIVAL_DELAY        float64\n",
      " 23  DIVERTED             int64  \n",
      " 24  CANCELLED            int64  \n",
      " 25  CANCELLATION_REASON  object \n",
      " 26  AIR_SYSTEM_DELAY     float64\n",
      " 27  SECURITY_DELAY       float64\n",
      " 28  AIRLINE_DELAY        float64\n",
      " 29  LATE_AIRCRAFT_DELAY  float64\n",
      " 30  WEATHER_DELAY        float64\n",
      "dtypes: float64(16), int64(10), object(5)\n",
      "memory usage: 1.3+ GB\n"
     ]
    }
   ],
   "source": [
    "df.info()"
   ]
  },
  {
   "cell_type": "code",
   "execution_count": 14,
   "metadata": {},
   "outputs": [
    {
     "data": {
      "text/plain": [
       "YEAR                   False\n",
       "MONTH                  False\n",
       "DAY                    False\n",
       "DAY_OF_WEEK            False\n",
       "AIRLINE                False\n",
       "FLIGHT_NUMBER          False\n",
       "TAIL_NUMBER             True\n",
       "ORIGIN_AIRPORT         False\n",
       "DESTINATION_AIRPORT    False\n",
       "SCHEDULED_DEPARTURE    False\n",
       "DEPARTURE_TIME          True\n",
       "DEPARTURE_DELAY         True\n",
       "TAXI_OUT                True\n",
       "WHEELS_OFF              True\n",
       "SCHEDULED_TIME          True\n",
       "ELAPSED_TIME            True\n",
       "AIR_TIME                True\n",
       "DISTANCE               False\n",
       "WHEELS_ON               True\n",
       "TAXI_IN                 True\n",
       "SCHEDULED_ARRIVAL      False\n",
       "ARRIVAL_TIME            True\n",
       "ARRIVAL_DELAY           True\n",
       "DIVERTED               False\n",
       "CANCELLED              False\n",
       "CANCELLATION_REASON     True\n",
       "AIR_SYSTEM_DELAY        True\n",
       "SECURITY_DELAY          True\n",
       "AIRLINE_DELAY           True\n",
       "LATE_AIRCRAFT_DELAY     True\n",
       "WEATHER_DELAY           True\n",
       "dtype: bool"
      ]
     },
     "execution_count": 14,
     "metadata": {},
     "output_type": "execute_result"
    }
   ],
   "source": [
    "df.isnull().any()"
   ]
  },
  {
   "cell_type": "code",
   "execution_count": 15,
   "metadata": {},
   "outputs": [
    {
     "data": {
      "text/plain": [
       "True     18\n",
       "False    13\n",
       "dtype: int64"
      ]
     },
     "execution_count": 15,
     "metadata": {},
     "output_type": "execute_result"
    }
   ],
   "source": [
    "df.isnull().any().value_counts()"
   ]
  },
  {
   "cell_type": "code",
   "execution_count": 16,
   "metadata": {},
   "outputs": [
    {
     "data": {
      "image/png": "[encoded data removed]",
      "text/plain": [
       "<Figure size 720x360 with 1 Axes>"
      ]
     },
     "metadata": {
      "needs_background": "light"
     },
     "output_type": "display_data"
    }
   ],
   "source": [
    "plt.figure(figsize=(10,5))\n",
    "plt.title(\"CountPlot\")  \n",
    "sns.countplot(x='AIRLINE',data=df);"
   ]
  },
  {
   "cell_type": "code",
   "execution_count": 17,
   "metadata": {},
   "outputs": [],
   "source": [
    "#df = df.drop(['Start_Time','End_Time','TMC','Description', 'Number', 'Street', 'City'\n",
    " #             'End_Lat', 'End_Lng'], axis=1)"
   ]
  },
  {
   "cell_type": "code",
   "execution_count": 18,
   "metadata": {},
   "outputs": [],
   "source": [
    "df1=df[['DAY_OF_WEEK','AIRLINE','ORIGIN_AIRPORT','DESTINATION_AIRPORT','DEPARTURE_TIME','DEPARTURE_DELAY',\n",
    "        'ARRIVAL_TIME','ARRIVAL_DELAY']]"
   ]
  },
  {
   "cell_type": "code",
   "execution_count": 19,
   "metadata": {},
   "outputs": [
    {
     "data": {
      "text/html": [
       "<div>\n",
       "<style scoped>\n",
       "    .dataframe tbody tr th:only-of-type {\n",
       "        vertical-align: middle;\n",
       "    }\n",
       "\n",
       "    .dataframe tbody tr th {\n",
       "        vertical-align: top;\n",
       "    }\n",
       "\n",
       "    .dataframe thead th {\n",
       "        text-align: right;\n",
       "    }\n",
       "</style>\n",
       "<table border=\"1\" class=\"dataframe\">\n",
       "  <thead>\n",
       "    <tr style=\"text-align: right;\">\n",
       "      <th></th>\n",
       "      <th>DAY_OF_WEEK</th>\n",
       "      <th>AIRLINE</th>\n",
       "      <th>ORIGIN_AIRPORT</th>\n",
       "      <th>DESTINATION_AIRPORT</th>\n",
       "      <th>DEPARTURE_TIME</th>\n",
       "      <th>DEPARTURE_DELAY</th>\n",
       "      <th>ARRIVAL_TIME</th>\n",
       "      <th>ARRIVAL_DELAY</th>\n",
       "    </tr>\n",
       "  </thead>\n",
       "  <tbody>\n",
       "    <tr>\n",
       "      <th>0</th>\n",
       "      <td>4</td>\n",
       "      <td>AS</td>\n",
       "      <td>ANC</td>\n",
       "      <td>SEA</td>\n",
       "      <td>2354.0</td>\n",
       "      <td>-11.0</td>\n",
       "      <td>408.0</td>\n",
       "      <td>-22.0</td>\n",
       "    </tr>\n",
       "    <tr>\n",
       "      <th>1</th>\n",
       "      <td>4</td>\n",
       "      <td>AA</td>\n",
       "      <td>LAX</td>\n",
       "      <td>PBI</td>\n",
       "      <td>2.0</td>\n",
       "      <td>-8.0</td>\n",
       "      <td>741.0</td>\n",
       "      <td>-9.0</td>\n",
       "    </tr>\n",
       "    <tr>\n",
       "      <th>2</th>\n",
       "      <td>4</td>\n",
       "      <td>US</td>\n",
       "      <td>SFO</td>\n",
       "      <td>CLT</td>\n",
       "      <td>18.0</td>\n",
       "      <td>-2.0</td>\n",
       "      <td>811.0</td>\n",
       "      <td>5.0</td>\n",
       "    </tr>\n",
       "    <tr>\n",
       "      <th>3</th>\n",
       "      <td>4</td>\n",
       "      <td>AA</td>\n",
       "      <td>LAX</td>\n",
       "      <td>MIA</td>\n",
       "      <td>15.0</td>\n",
       "      <td>-5.0</td>\n",
       "      <td>756.0</td>\n",
       "      <td>-9.0</td>\n",
       "    </tr>\n",
       "    <tr>\n",
       "      <th>4</th>\n",
       "      <td>4</td>\n",
       "      <td>AS</td>\n",
       "      <td>SEA</td>\n",
       "      <td>ANC</td>\n",
       "      <td>24.0</td>\n",
       "      <td>-1.0</td>\n",
       "      <td>259.0</td>\n",
       "      <td>-21.0</td>\n",
       "    </tr>\n",
       "    <tr>\n",
       "      <th>...</th>\n",
       "      <td>...</td>\n",
       "      <td>...</td>\n",
       "      <td>...</td>\n",
       "      <td>...</td>\n",
       "      <td>...</td>\n",
       "      <td>...</td>\n",
       "      <td>...</td>\n",
       "      <td>...</td>\n",
       "    </tr>\n",
       "    <tr>\n",
       "      <th>5819074</th>\n",
       "      <td>4</td>\n",
       "      <td>B6</td>\n",
       "      <td>LAX</td>\n",
       "      <td>BOS</td>\n",
       "      <td>2355.0</td>\n",
       "      <td>-4.0</td>\n",
       "      <td>753.0</td>\n",
       "      <td>-26.0</td>\n",
       "    </tr>\n",
       "    <tr>\n",
       "      <th>5819075</th>\n",
       "      <td>4</td>\n",
       "      <td>B6</td>\n",
       "      <td>JFK</td>\n",
       "      <td>PSE</td>\n",
       "      <td>2355.0</td>\n",
       "      <td>-4.0</td>\n",
       "      <td>430.0</td>\n",
       "      <td>-16.0</td>\n",
       "    </tr>\n",
       "    <tr>\n",
       "      <th>5819076</th>\n",
       "      <td>4</td>\n",
       "      <td>B6</td>\n",
       "      <td>JFK</td>\n",
       "      <td>SJU</td>\n",
       "      <td>2350.0</td>\n",
       "      <td>-9.0</td>\n",
       "      <td>432.0</td>\n",
       "      <td>-8.0</td>\n",
       "    </tr>\n",
       "    <tr>\n",
       "      <th>5819077</th>\n",
       "      <td>4</td>\n",
       "      <td>B6</td>\n",
       "      <td>MCO</td>\n",
       "      <td>SJU</td>\n",
       "      <td>2353.0</td>\n",
       "      <td>-6.0</td>\n",
       "      <td>330.0</td>\n",
       "      <td>-10.0</td>\n",
       "    </tr>\n",
       "    <tr>\n",
       "      <th>5819078</th>\n",
       "      <td>4</td>\n",
       "      <td>B6</td>\n",
       "      <td>JFK</td>\n",
       "      <td>BQN</td>\n",
       "      <td>14.0</td>\n",
       "      <td>15.0</td>\n",
       "      <td>442.0</td>\n",
       "      <td>2.0</td>\n",
       "    </tr>\n",
       "  </tbody>\n",
       "</table>\n",
       "<p>5819079 rows × 8 columns</p>\n",
       "</div>"
      ],
      "text/plain": [
       "         DAY_OF_WEEK AIRLINE ORIGIN_AIRPORT DESTINATION_AIRPORT  \\\n",
       "0                  4      AS            ANC                 SEA   \n",
       "1                  4      AA            LAX                 PBI   \n",
       "2                  4      US            SFO                 CLT   \n",
       "3                  4      AA            LAX                 MIA   \n",
       "4                  4      AS            SEA                 ANC   \n",
       "...              ...     ...            ...                 ...   \n",
       "5819074            4      B6            LAX                 BOS   \n",
       "5819075            4      B6            JFK                 PSE   \n",
       "5819076            4      B6            JFK                 SJU   \n",
       "5819077            4      B6            MCO                 SJU   \n",
       "5819078            4      B6            JFK                 BQN   \n",
       "\n",
       "         DEPARTURE_TIME  DEPARTURE_DELAY  ARRIVAL_TIME  ARRIVAL_DELAY  \n",
       "0                2354.0            -11.0         408.0          -22.0  \n",
       "1                   2.0             -8.0         741.0           -9.0  \n",
       "2                  18.0             -2.0         811.0            5.0  \n",
       "3                  15.0             -5.0         756.0           -9.0  \n",
       "4                  24.0             -1.0         259.0          -21.0  \n",
       "...                 ...              ...           ...            ...  \n",
       "5819074          2355.0             -4.0         753.0          -26.0  \n",
       "5819075          2355.0             -4.0         430.0          -16.0  \n",
       "5819076          2350.0             -9.0         432.0           -8.0  \n",
       "5819077          2353.0             -6.0         330.0          -10.0  \n",
       "5819078            14.0             15.0         442.0            2.0  \n",
       "\n",
       "[5819079 rows x 8 columns]"
      ]
     },
     "execution_count": 19,
     "metadata": {},
     "output_type": "execute_result"
    }
   ],
   "source": [
    "df1"
   ]
  },
  {
   "cell_type": "code",
   "execution_count": 20,
   "metadata": {},
   "outputs": [
    {
     "data": {
      "text/plain": [
       "DAY_OF_WEEK            False\n",
       "AIRLINE                False\n",
       "ORIGIN_AIRPORT         False\n",
       "DESTINATION_AIRPORT    False\n",
       "DEPARTURE_TIME          True\n",
       "DEPARTURE_DELAY         True\n",
       "ARRIVAL_TIME            True\n",
       "ARRIVAL_DELAY           True\n",
       "dtype: bool"
      ]
     },
     "execution_count": 20,
     "metadata": {},
     "output_type": "execute_result"
    }
   ],
   "source": [
    "df1.isnull().any()"
   ]
  },
  {
   "cell_type": "code",
   "execution_count": 21,
   "metadata": {},
   "outputs": [
    {
     "data": {
      "text/plain": [
       "DAY_OF_WEEK              int64\n",
       "AIRLINE                 object\n",
       "ORIGIN_AIRPORT          object\n",
       "DESTINATION_AIRPORT     object\n",
       "DEPARTURE_TIME         float64\n",
       "DEPARTURE_DELAY        float64\n",
       "ARRIVAL_TIME           float64\n",
       "ARRIVAL_DELAY          float64\n",
       "dtype: object"
      ]
     },
     "execution_count": 21,
     "metadata": {},
     "output_type": "execute_result"
    }
   ],
   "source": [
    "df1.dtypes"
   ]
  },
  {
   "cell_type": "code",
   "execution_count": 22,
   "metadata": {},
   "outputs": [],
   "source": [
    "from sklearn.preprocessing import LabelEncoder\n",
    "le=LabelEncoder()"
   ]
  },
  {
   "cell_type": "code",
   "execution_count": 23,
   "metadata": {},
   "outputs": [],
   "source": [
    "df1['AIRLINE']=le.fit_transform(df1['AIRLINE'])"
   ]
  },
  {
   "cell_type": "code",
   "execution_count": 24,
   "metadata": {},
   "outputs": [
    {
     "data": {
      "text/html": [
       "<div>\n",
       "<style scoped>\n",
       "    .dataframe tbody tr th:only-of-type {\n",
       "        vertical-align: middle;\n",
       "    }\n",
       "\n",
       "    .dataframe tbody tr th {\n",
       "        vertical-align: top;\n",
       "    }\n",
       "\n",
       "    .dataframe thead th {\n",
       "        text-align: right;\n",
       "    }\n",
       "</style>\n",
       "<table border=\"1\" class=\"dataframe\">\n",
       "  <thead>\n",
       "    <tr style=\"text-align: right;\">\n",
       "      <th></th>\n",
       "      <th>DAY_OF_WEEK</th>\n",
       "      <th>AIRLINE</th>\n",
       "      <th>ORIGIN_AIRPORT</th>\n",
       "      <th>DESTINATION_AIRPORT</th>\n",
       "      <th>DEPARTURE_TIME</th>\n",
       "      <th>DEPARTURE_DELAY</th>\n",
       "      <th>ARRIVAL_TIME</th>\n",
       "      <th>ARRIVAL_DELAY</th>\n",
       "    </tr>\n",
       "  </thead>\n",
       "  <tbody>\n",
       "    <tr>\n",
       "      <th>0</th>\n",
       "      <td>4</td>\n",
       "      <td>1</td>\n",
       "      <td>323</td>\n",
       "      <td>SEA</td>\n",
       "      <td>2354.0</td>\n",
       "      <td>-11.0</td>\n",
       "      <td>408.0</td>\n",
       "      <td>-22.0</td>\n",
       "    </tr>\n",
       "    <tr>\n",
       "      <th>1</th>\n",
       "      <td>4</td>\n",
       "      <td>0</td>\n",
       "      <td>482</td>\n",
       "      <td>PBI</td>\n",
       "      <td>2.0</td>\n",
       "      <td>-8.0</td>\n",
       "      <td>741.0</td>\n",
       "      <td>-9.0</td>\n",
       "    </tr>\n",
       "    <tr>\n",
       "      <th>2</th>\n",
       "      <td>4</td>\n",
       "      <td>11</td>\n",
       "      <td>584</td>\n",
       "      <td>CLT</td>\n",
       "      <td>18.0</td>\n",
       "      <td>-2.0</td>\n",
       "      <td>811.0</td>\n",
       "      <td>5.0</td>\n",
       "    </tr>\n",
       "    <tr>\n",
       "      <th>3</th>\n",
       "      <td>4</td>\n",
       "      <td>0</td>\n",
       "      <td>482</td>\n",
       "      <td>MIA</td>\n",
       "      <td>15.0</td>\n",
       "      <td>-5.0</td>\n",
       "      <td>756.0</td>\n",
       "      <td>-9.0</td>\n",
       "    </tr>\n",
       "    <tr>\n",
       "      <th>4</th>\n",
       "      <td>4</td>\n",
       "      <td>1</td>\n",
       "      <td>583</td>\n",
       "      <td>ANC</td>\n",
       "      <td>24.0</td>\n",
       "      <td>-1.0</td>\n",
       "      <td>259.0</td>\n",
       "      <td>-21.0</td>\n",
       "    </tr>\n",
       "    <tr>\n",
       "      <th>...</th>\n",
       "      <td>...</td>\n",
       "      <td>...</td>\n",
       "      <td>...</td>\n",
       "      <td>...</td>\n",
       "      <td>...</td>\n",
       "      <td>...</td>\n",
       "      <td>...</td>\n",
       "      <td>...</td>\n",
       "    </tr>\n",
       "    <tr>\n",
       "      <th>5819074</th>\n",
       "      <td>4</td>\n",
       "      <td>2</td>\n",
       "      <td>482</td>\n",
       "      <td>BOS</td>\n",
       "      <td>2355.0</td>\n",
       "      <td>-4.0</td>\n",
       "      <td>753.0</td>\n",
       "      <td>-26.0</td>\n",
       "    </tr>\n",
       "    <tr>\n",
       "      <th>5819075</th>\n",
       "      <td>4</td>\n",
       "      <td>2</td>\n",
       "      <td>472</td>\n",
       "      <td>PSE</td>\n",
       "      <td>2355.0</td>\n",
       "      <td>-4.0</td>\n",
       "      <td>430.0</td>\n",
       "      <td>-16.0</td>\n",
       "    </tr>\n",
       "    <tr>\n",
       "      <th>5819076</th>\n",
       "      <td>4</td>\n",
       "      <td>2</td>\n",
       "      <td>472</td>\n",
       "      <td>SJU</td>\n",
       "      <td>2350.0</td>\n",
       "      <td>-9.0</td>\n",
       "      <td>432.0</td>\n",
       "      <td>-8.0</td>\n",
       "    </tr>\n",
       "    <tr>\n",
       "      <th>5819077</th>\n",
       "      <td>4</td>\n",
       "      <td>2</td>\n",
       "      <td>499</td>\n",
       "      <td>SJU</td>\n",
       "      <td>2353.0</td>\n",
       "      <td>-6.0</td>\n",
       "      <td>330.0</td>\n",
       "      <td>-10.0</td>\n",
       "    </tr>\n",
       "    <tr>\n",
       "      <th>5819078</th>\n",
       "      <td>4</td>\n",
       "      <td>2</td>\n",
       "      <td>472</td>\n",
       "      <td>BQN</td>\n",
       "      <td>14.0</td>\n",
       "      <td>15.0</td>\n",
       "      <td>442.0</td>\n",
       "      <td>2.0</td>\n",
       "    </tr>\n",
       "  </tbody>\n",
       "</table>\n",
       "<p>5819079 rows × 8 columns</p>\n",
       "</div>"
      ],
      "text/plain": [
       "         DAY_OF_WEEK  AIRLINE  ORIGIN_AIRPORT DESTINATION_AIRPORT  \\\n",
       "0                  4        1             323                 SEA   \n",
       "1                  4        0             482                 PBI   \n",
       "2                  4       11             584                 CLT   \n",
       "3                  4        0             482                 MIA   \n",
       "4                  4        1             583                 ANC   \n",
       "...              ...      ...             ...                 ...   \n",
       "5819074            4        2             482                 BOS   \n",
       "5819075            4        2             472                 PSE   \n",
       "5819076            4        2             472                 SJU   \n",
       "5819077            4        2             499                 SJU   \n",
       "5819078            4        2             472                 BQN   \n",
       "\n",
       "         DEPARTURE_TIME  DEPARTURE_DELAY  ARRIVAL_TIME  ARRIVAL_DELAY  \n",
       "0                2354.0            -11.0         408.0          -22.0  \n",
       "1                   2.0             -8.0         741.0           -9.0  \n",
       "2                  18.0             -2.0         811.0            5.0  \n",
       "3                  15.0             -5.0         756.0           -9.0  \n",
       "4                  24.0             -1.0         259.0          -21.0  \n",
       "...                 ...              ...           ...            ...  \n",
       "5819074          2355.0             -4.0         753.0          -26.0  \n",
       "5819075          2355.0             -4.0         430.0          -16.0  \n",
       "5819076          2350.0             -9.0         432.0           -8.0  \n",
       "5819077          2353.0             -6.0         330.0          -10.0  \n",
       "5819078            14.0             15.0         442.0            2.0  \n",
       "\n",
       "[5819079 rows x 8 columns]"
      ]
     },
     "execution_count": 24,
     "metadata": {},
     "output_type": "execute_result"
    }
   ],
   "source": [
    "df1['ORIGIN_AIRPORT']=le.fit_transform(df1['ORIGIN_AIRPORT'].astype('str'))\n",
    "df1"
   ]
  },
  {
   "cell_type": "code",
   "execution_count": 25,
   "metadata": {},
   "outputs": [],
   "source": [
    "df1['DESTINATION_AIRPORT']=le.fit_transform(df1['DESTINATION_AIRPORT'].astype('str'))"
   ]
  },
  {
   "cell_type": "code",
   "execution_count": 26,
   "metadata": {},
   "outputs": [
    {
     "data": {
      "text/html": [
       "<div>\n",
       "<style scoped>\n",
       "    .dataframe tbody tr th:only-of-type {\n",
       "        vertical-align: middle;\n",
       "    }\n",
       "\n",
       "    .dataframe tbody tr th {\n",
       "        vertical-align: top;\n",
       "    }\n",
       "\n",
       "    .dataframe thead th {\n",
       "        text-align: right;\n",
       "    }\n",
       "</style>\n",
       "<table border=\"1\" class=\"dataframe\">\n",
       "  <thead>\n",
       "    <tr style=\"text-align: right;\">\n",
       "      <th></th>\n",
       "      <th>DAY_OF_WEEK</th>\n",
       "      <th>AIRLINE</th>\n",
       "      <th>ORIGIN_AIRPORT</th>\n",
       "      <th>DESTINATION_AIRPORT</th>\n",
       "      <th>DEPARTURE_TIME</th>\n",
       "      <th>DEPARTURE_DELAY</th>\n",
       "      <th>ARRIVAL_TIME</th>\n",
       "      <th>ARRIVAL_DELAY</th>\n",
       "    </tr>\n",
       "  </thead>\n",
       "  <tbody>\n",
       "    <tr>\n",
       "      <th>0</th>\n",
       "      <td>4</td>\n",
       "      <td>1</td>\n",
       "      <td>323</td>\n",
       "      <td>584</td>\n",
       "      <td>2354.0</td>\n",
       "      <td>-11.0</td>\n",
       "      <td>408.0</td>\n",
       "      <td>-22.0</td>\n",
       "    </tr>\n",
       "    <tr>\n",
       "      <th>1</th>\n",
       "      <td>4</td>\n",
       "      <td>0</td>\n",
       "      <td>482</td>\n",
       "      <td>542</td>\n",
       "      <td>2.0</td>\n",
       "      <td>-8.0</td>\n",
       "      <td>741.0</td>\n",
       "      <td>-9.0</td>\n",
       "    </tr>\n",
       "    <tr>\n",
       "      <th>2</th>\n",
       "      <td>4</td>\n",
       "      <td>11</td>\n",
       "      <td>584</td>\n",
       "      <td>373</td>\n",
       "      <td>18.0</td>\n",
       "      <td>-2.0</td>\n",
       "      <td>811.0</td>\n",
       "      <td>5.0</td>\n",
       "    </tr>\n",
       "    <tr>\n",
       "      <th>3</th>\n",
       "      <td>4</td>\n",
       "      <td>0</td>\n",
       "      <td>482</td>\n",
       "      <td>510</td>\n",
       "      <td>15.0</td>\n",
       "      <td>-5.0</td>\n",
       "      <td>756.0</td>\n",
       "      <td>-9.0</td>\n",
       "    </tr>\n",
       "    <tr>\n",
       "      <th>4</th>\n",
       "      <td>4</td>\n",
       "      <td>1</td>\n",
       "      <td>583</td>\n",
       "      <td>324</td>\n",
       "      <td>24.0</td>\n",
       "      <td>-1.0</td>\n",
       "      <td>259.0</td>\n",
       "      <td>-21.0</td>\n",
       "    </tr>\n",
       "    <tr>\n",
       "      <th>...</th>\n",
       "      <td>...</td>\n",
       "      <td>...</td>\n",
       "      <td>...</td>\n",
       "      <td>...</td>\n",
       "      <td>...</td>\n",
       "      <td>...</td>\n",
       "      <td>...</td>\n",
       "      <td>...</td>\n",
       "    </tr>\n",
       "    <tr>\n",
       "      <th>5819074</th>\n",
       "      <td>4</td>\n",
       "      <td>2</td>\n",
       "      <td>482</td>\n",
       "      <td>346</td>\n",
       "      <td>2355.0</td>\n",
       "      <td>-4.0</td>\n",
       "      <td>753.0</td>\n",
       "      <td>-26.0</td>\n",
       "    </tr>\n",
       "    <tr>\n",
       "      <th>5819075</th>\n",
       "      <td>4</td>\n",
       "      <td>2</td>\n",
       "      <td>472</td>\n",
       "      <td>555</td>\n",
       "      <td>2355.0</td>\n",
       "      <td>-4.0</td>\n",
       "      <td>430.0</td>\n",
       "      <td>-16.0</td>\n",
       "    </tr>\n",
       "    <tr>\n",
       "      <th>5819076</th>\n",
       "      <td>4</td>\n",
       "      <td>2</td>\n",
       "      <td>472</td>\n",
       "      <td>592</td>\n",
       "      <td>2350.0</td>\n",
       "      <td>-9.0</td>\n",
       "      <td>432.0</td>\n",
       "      <td>-8.0</td>\n",
       "    </tr>\n",
       "    <tr>\n",
       "      <th>5819077</th>\n",
       "      <td>4</td>\n",
       "      <td>2</td>\n",
       "      <td>499</td>\n",
       "      <td>592</td>\n",
       "      <td>2353.0</td>\n",
       "      <td>-6.0</td>\n",
       "      <td>330.0</td>\n",
       "      <td>-10.0</td>\n",
       "    </tr>\n",
       "    <tr>\n",
       "      <th>5819078</th>\n",
       "      <td>4</td>\n",
       "      <td>2</td>\n",
       "      <td>472</td>\n",
       "      <td>349</td>\n",
       "      <td>14.0</td>\n",
       "      <td>15.0</td>\n",
       "      <td>442.0</td>\n",
       "      <td>2.0</td>\n",
       "    </tr>\n",
       "  </tbody>\n",
       "</table>\n",
       "<p>5819079 rows × 8 columns</p>\n",
       "</div>"
      ],
      "text/plain": [
       "         DAY_OF_WEEK  AIRLINE  ORIGIN_AIRPORT  DESTINATION_AIRPORT  \\\n",
       "0                  4        1             323                  584   \n",
       "1                  4        0             482                  542   \n",
       "2                  4       11             584                  373   \n",
       "3                  4        0             482                  510   \n",
       "4                  4        1             583                  324   \n",
       "...              ...      ...             ...                  ...   \n",
       "5819074            4        2             482                  346   \n",
       "5819075            4        2             472                  555   \n",
       "5819076            4        2             472                  592   \n",
       "5819077            4        2             499                  592   \n",
       "5819078            4        2             472                  349   \n",
       "\n",
       "         DEPARTURE_TIME  DEPARTURE_DELAY  ARRIVAL_TIME  ARRIVAL_DELAY  \n",
       "0                2354.0            -11.0         408.0          -22.0  \n",
       "1                   2.0             -8.0         741.0           -9.0  \n",
       "2                  18.0             -2.0         811.0            5.0  \n",
       "3                  15.0             -5.0         756.0           -9.0  \n",
       "4                  24.0             -1.0         259.0          -21.0  \n",
       "...                 ...              ...           ...            ...  \n",
       "5819074          2355.0             -4.0         753.0          -26.0  \n",
       "5819075          2355.0             -4.0         430.0          -16.0  \n",
       "5819076          2350.0             -9.0         432.0           -8.0  \n",
       "5819077          2353.0             -6.0         330.0          -10.0  \n",
       "5819078            14.0             15.0         442.0            2.0  \n",
       "\n",
       "[5819079 rows x 8 columns]"
      ]
     },
     "execution_count": 26,
     "metadata": {},
     "output_type": "execute_result"
    }
   ],
   "source": [
    "df1"
   ]
  },
  {
   "cell_type": "code",
   "execution_count": 27,
   "metadata": {},
   "outputs": [
    {
     "data": {
      "text/plain": [
       "<AxesSubplot:xlabel='DEPARTURE_DELAY', ylabel='Density'>"
      ]
     },
     "execution_count": 27,
     "metadata": {},
     "output_type": "execute_result"
    },
    {
     "data": {
      "image/png": "[encoded data removed]",
      "text/plain": [
       "<Figure size 864x576 with 1 Axes>"
      ]
     },
     "metadata": {
      "needs_background": "light"
     },
     "output_type": "display_data"
    }
   ],
   "source": [
    "plt.figure(figsize=(12,8))\n",
    "sns.distplot(df1['DEPARTURE_DELAY'])"
   ]
  },
  {
   "cell_type": "code",
   "execution_count": 51,
   "metadata": {},
   "outputs": [
    {
     "data": {
      "text/plain": [
       "<AxesSubplot:xlabel='ARRIVAL_DELAY', ylabel='Density'>"
      ]
     },
     "execution_count": 51,
     "metadata": {},
     "output_type": "execute_result"
    },
    {
     "data": {
      "image/png": "[encoded data removed]",
      "text/plain": [
       "<Figure size 864x576 with 1 Axes>"
      ]
     },
     "metadata": {
      "needs_background": "light"
     },
     "output_type": "display_data"
    }
   ],
   "source": [
    "plt.figure(figsize=(12,8))\n",
    "sns.distplot(df1['ARRIVAL_DELAY'])"
   ]
  },
  {
   "cell_type": "code",
   "execution_count": 28,
   "metadata": {},
   "outputs": [],
   "source": [
    "df1=df1.dropna()"
   ]
  },
  {
   "cell_type": "code",
   "execution_count": 29,
   "metadata": {},
   "outputs": [],
   "source": [
    "#Splitting the features in X and target in Y variables\n",
    "X=df1.drop(['DEPARTURE_DELAY'],axis=1)\n",
    "y=df1.DEPARTURE_DELAY"
   ]
  },
  {
   "cell_type": "code",
   "execution_count": 30,
   "metadata": {},
   "outputs": [],
   "source": [
    "from sklearn.preprocessing import MinMaxScaler\n",
    "scaler=MinMaxScaler().fit_transform(X) #scaling to (0,1)\n",
    "scal_X=pd.DataFrame(scaler,columns=X.columns)\n",
    "\n",
    "# print scaled dataset\n",
    "X=scal_X"
   ]
  },
  {
   "cell_type": "code",
   "execution_count": 31,
   "metadata": {},
   "outputs": [],
   "source": [
    "from sklearn.model_selection import train_test_split\n",
    "from sklearn.metrics import mean_absolute_error as MAE\n",
    "from sklearn.metrics import mean_squared_error as MSE\n",
    "from sklearn.metrics import r2_score as r2\n",
    "\n",
    "#80% is training 20%is testing\n",
    "X_train, X_test, Y_train, Y_test = train_test_split(X, y, test_size=0.2, random_state=9)"
   ]
  },
  {
   "cell_type": "markdown",
   "metadata": {},
   "source": [
    "R2"
   ]
  },
  {
   "cell_type": "markdown",
   "metadata": {},
   "source": [
    "Let us take a naive approach by taking an average of all the points by thinking of a horizontal line through them. Then we can calculate the MSE for this simple model. R2 score answers the question that if this simple model has a larger error than the linear regression model. However, it terms of metrics the answer we need is how much larger. The R2 score answers this question. R2 score is 1 — (Error from Linear Regression Model/Simple average model).\n",
    "Best possible score is 1.0 and it can be negative (because the model can be arbitrarily worse). A constant model that always predicts the expected value of y, disregarding the input features, would get a R2 score of 0.0."
   ]
  },
  {
   "cell_type": "code",
   "execution_count": null,
   "metadata": {},
   "outputs": [],
   "source": []
  },
  {
   "cell_type": "markdown",
   "metadata": {},
   "source": [
    "MASE\n",
    "https://en.wikipedia.org/wiki/Mean_absolute_scaled_error"
   ]
  },
  {
   "cell_type": "code",
   "execution_count": 52,
   "metadata": {},
   "outputs": [],
   "source": [
    "from sklearn.ensemble import GradientBoostingRegressor\n",
    "from sklearn.model_selection import train_test_split"
   ]
  },
  {
   "cell_type": "code",
   "execution_count": 53,
   "metadata": {},
   "outputs": [
    {
     "data": {
      "text/plain": [
       "GradientBoostingRegressor(random_state=0)"
      ]
     },
     "execution_count": 53,
     "metadata": {},
     "output_type": "execute_result"
    }
   ],
   "source": [
    "reg = GradientBoostingRegressor(random_state=0)\n",
    "reg.fit(X_train, Y_train)"
   ]
  },
  {
   "cell_type": "code",
   "execution_count": 54,
   "metadata": {},
   "outputs": [],
   "source": [
    "pred = reg.predict(X_test)"
   ]
  },
  {
   "cell_type": "code",
   "execution_count": 55,
   "metadata": {},
   "outputs": [
    {
     "data": {
      "text/plain": [
       "<matplotlib.collections.PathCollection at 0x15b8434c0a0>"
      ]
     },
     "execution_count": 55,
     "metadata": {},
     "output_type": "execute_result"
    },
    {
     "data": {
      "image/png": "[encoded data removed]",
      "text/plain": [
       "<Figure size 432x288 with 1 Axes>"
      ]
     },
     "metadata": {
      "needs_background": "light"
     },
     "output_type": "display_data"
    }
   ],
   "source": [
    "plt.scatter(Y_test,pred)"
   ]
  },
  {
   "cell_type": "code",
   "execution_count": 57,
   "metadata": {},
   "outputs": [
    {
     "data": {
      "text/plain": [
       "0.9326663752015176"
      ]
     },
     "execution_count": 57,
     "metadata": {},
     "output_type": "execute_result"
    }
   ],
   "source": [
    "reg.score(X_test, Y_test)"
   ]
  },
  {
   "cell_type": "code",
   "execution_count": 59,
   "metadata": {},
   "outputs": [
    {
     "name": "stdout",
     "output_type": "stream",
     "text": [
      "MAE :  5.945745\n",
      "MSE :  92.224346\n",
      "RMSE :  9.603351\n",
      "R2 :  0.932666\n"
     ]
    }
   ],
   "source": [
    "print(\"MAE : % f\" %(MAE(Y_test, pred)))\n",
    "print(\"MSE : % f\" %(MSE(Y_test, pred)))\n",
    "print(\"RMSE : % f\" %(np.sqrt(MSE(Y_test, pred))))\n",
    "print(\"R2 : % f\" %r2(Y_test, pred))"
   ]
  },
  {
   "cell_type": "code",
   "execution_count": 32,
   "metadata": {},
   "outputs": [
    {
     "name": "stdout",
     "output_type": "stream",
     "text": [
      "MAE :  8.467204\n",
      "MSE :  144.828500\n",
      "RMSE :  12.034471\n",
      "R2 :  0.894260\n"
     ]
    },
    {
     "data": {
      "image/png": "[encoded data removed]",
      "text/plain": [
       "<Figure size 432x288 with 1 Axes>"
      ]
     },
     "metadata": {
      "needs_background": "light"
     },
     "output_type": "display_data"
    }
   ],
   "source": [
    "from sklearn.linear_model import LinearRegression\n",
    "regr = LinearRegression()\n",
    "regr.fit(X_train,Y_train)\n",
    "pred = regr.predict(X_test)\n",
    "\n",
    "plt.scatter(Y_test,pred)\n",
    "\n",
    "print(\"MAE : % f\" %(MAE(Y_test, pred)))\n",
    "print(\"MSE : % f\" %(MSE(Y_test, pred)))\n",
    "print(\"RMSE : % f\" %(np.sqrt(MSE(Y_test, pred))))\n",
    "print(\"R2 : % f\" %r2(Y_test, pred))"
   ]
  },
  {
   "cell_type": "code",
   "execution_count": 33,
   "metadata": {},
   "outputs": [
    {
     "name": "stdout",
     "output_type": "stream",
     "text": [
      "MAE :  6.800837\n",
      "MSE :  270.227390\n",
      "RMSE :  16.438595\n",
      "R2 :  0.802705\n"
     ]
    },
    {
     "data": {
      "image/png": "[encoded data removed]",
      "text/plain": [
       "<Figure size 432x288 with 1 Axes>"
      ]
     },
     "metadata": {
      "needs_background": "light"
     },
     "output_type": "display_data"
    }
   ],
   "source": [
    "import xgboost as xg\n",
    "xgb_r = xg.XGBRegressor(objective ='reg:squarederror',\n",
    "                  n_estimators = 10, seed = 123)\n",
    "\n",
    "xgb_r.fit(X_train,Y_train)\n",
    "pred = xgb_r.predict(X_test)\n",
    "\n",
    "plt.scatter(Y_test,pred)\n",
    "\n",
    "print(\"MAE : % f\" %(MAE(Y_test, pred)))\n",
    "print(\"MSE : % f\" %(MSE(Y_test, pred)))\n",
    "print(\"RMSE : % f\" %(np.sqrt(MSE(Y_test, pred))))\n",
    "print(\"R2 : % f\" %r2(Y_test, pred))"
   ]
  },
  {
   "cell_type": "code",
   "execution_count": 34,
   "metadata": {},
   "outputs": [
    {
     "name": "stdout",
     "output_type": "stream",
     "text": [
      "MAE :  8.636425\n",
      "MSE :  292.621221\n",
      "RMSE :  17.106175\n",
      "R2 :  0.786355\n"
     ]
    },
    {
     "data": {
      "image/png": "[encoded data removed]",
      "text/plain": [
       "<Figure size 432x288 with 1 Axes>"
      ]
     },
     "metadata": {
      "needs_background": "light"
     },
     "output_type": "display_data"
    }
   ],
   "source": [
    "from sklearn.ensemble import RandomForestRegressor\n",
    "rf_reg = RandomForestRegressor(max_depth=2, random_state=0)\n",
    "\n",
    "rf_reg.fit(X_train,Y_train)\n",
    "pred = rf_reg.predict(X_test)\n",
    "\n",
    "plt.scatter(Y_test,pred)\n",
    "\n",
    "print(\"MAE : % f\" %(MAE(Y_test, pred)))\n",
    "print(\"MSE : % f\" %(MSE(Y_test, pred)))\n",
    "print(\"RMSE : % f\" %(np.sqrt(MSE(Y_test, pred))))\n",
    "print(\"R2 : % f\" %r2(Y_test, pred))"
   ]
  },
  {
   "cell_type": "code",
   "execution_count": 36,
   "metadata": {},
   "outputs": [
    {
     "name": "stdout",
     "output_type": "stream",
     "text": [
      "MAE :  18.637685\n",
      "MSE :  1365.404955\n",
      "RMSE :  36.951386\n",
      "R2 :  0.003109\n"
     ]
    },
    {
     "data": {
      "image/png": "[encoded data removed]",
      "text/plain": [
       "<Figure size 432x288 with 1 Axes>"
      ]
     },
     "metadata": {
      "needs_background": "light"
     },
     "output_type": "display_data"
    }
   ],
   "source": [
    "from sklearn.linear_model import ElasticNet\n",
    "EN= ElasticNet().fit(X_train,Y_train)\n",
    "pred = EN.predict(X_test)\n",
    "\n",
    "plt.scatter(Y_test,pred)\n",
    "\n",
    "print(\"MAE : % f\" %(MAE(Y_test, pred)))\n",
    "print(\"MSE : % f\" %(MSE(Y_test, pred)))\n",
    "print(\"RMSE : % f\" %(np.sqrt(MSE(Y_test, pred))))\n",
    "print(\"R2 : % f\" %r2(Y_test, pred))"
   ]
  },
  {
   "cell_type": "code",
   "execution_count": 37,
   "metadata": {},
   "outputs": [],
   "source": [
    "from sklearn.linear_model import SGDRegressor\n",
    "from io import StringIO\n",
    "import sys\n",
    "old_stdout = sys.stdout\n",
    "sys.stdout = mystdout = StringIO()"
   ]
  },
  {
   "cell_type": "code",
   "execution_count": 38,
   "metadata": {},
   "outputs": [],
   "source": [
    "fX = X.values\n",
    "fy = y.values"
   ]
  },
  {
   "cell_type": "code",
   "execution_count": 39,
   "metadata": {},
   "outputs": [],
   "source": [
    "sgd1 = SGDRegressor(loss=\"squared_loss\", learning_rate='constant', eta0=0.00001, penalty=None, max_iter=1,\n",
    "                   average=False, random_state=2010, verbose=1)\n",
    "sgd2 = SGDRegressor(loss=\"squared_loss\", learning_rate='constant', eta0=0.0001, penalty=None, max_iter=1,\n",
    "                   average=False, random_state=2010, verbose=1)\n",
    "sgd3 = SGDRegressor(loss=\"squared_loss\", learning_rate='constant', eta0=0.001, penalty=None, max_iter=1,\n",
    "                   average=False, random_state=2010, verbose=1)"
   ]
  },
  {
   "cell_type": "code",
   "execution_count": 40,
   "metadata": {},
   "outputs": [],
   "source": [
    "coef_list1=[]; # this holds the coefficient values for first regressor\n",
    "coef_list2=[]; # this holds the coefficient values for second regressor\n",
    "coef_list3=[]; # this holds the coefficient values for third regressor\n",
    "epochs = 15 ; # number of epochs\n",
    "\n",
    "for epoch in range(epochs):\n",
    "    model1 = sgd1.partial_fit(fX, fy) #create three model for each regressor\n",
    "    model2 = sgd2.partial_fit(fX, fy)\n",
    "    model3 = sgd3.partial_fit(fX, fy)\n",
    "    y1 = model1.predict(fX)    #prediction values for each regressor\n",
    "    y2 = model2.predict(fX)\n",
    "    y3 = model3.predict(fX)\n",
    "    coef_list1.append(model1.coef_.tolist()) #collect tolist the coefficients for each regressor\n",
    "    coef_list2.append(model2.coef_.tolist())\n",
    "    coef_list3.append(model3.coef_.tolist())"
   ]
  },
  {
   "cell_type": "code",
   "execution_count": 41,
   "metadata": {},
   "outputs": [],
   "source": [
    "sys.stdout = old_stdout\n",
    "loss_history = mystdout.getvalue() #create value loss history to take the loss from the string\n",
    "loss_list1 = []  #this list collects loss for each regressor\n",
    "loss_list2 = []\n",
    "loss_list3 = []\n",
    "count = 1   #create count to find loss of each regressor in loss history\n",
    "\n",
    "for line in loss_history.split('\\n'):   #split to lines loss history\n",
    "    if(len(line.split(\"loss: \")) == 1):   #split lines to 'loss: ' and when if equal character we continue \n",
    "        continue                        #if is more than 1 go to if condition and take loss values from loss history\n",
    "    if count%3==1:\n",
    "        loss_list1.append(float(line.split(\"loss: \")[-1])) #append to list the loss value after spliting of string\n",
    "    elif count%3==2:                                                                          #for each regressor\n",
    "        loss_list2.append(float(line.split(\"loss: \")[-1]))\n",
    "    else:\n",
    "        loss_list3.append(float(line.split(\"loss: \")[-1]))\n",
    "    count+=1"
   ]
  },
  {
   "cell_type": "code",
   "execution_count": 42,
   "metadata": {},
   "outputs": [
    {
     "data": {
      "image/png": "[encoded data removed]",
      "text/plain": [
       "<Figure size 648x360 with 1 Axes>"
      ]
     },
     "metadata": {
      "needs_background": "light"
     },
     "output_type": "display_data"
    },
    {
     "data": {
      "image/png": "[encoded data removed]",
      "text/plain": [
       "<Figure size 648x360 with 1 Axes>"
      ]
     },
     "metadata": {
      "needs_background": "light"
     },
     "output_type": "display_data"
    },
    {
     "data": {
      "image/png": "[encoded data removed]",
      "text/plain": [
       "<Figure size 648x360 with 1 Axes>"
      ]
     },
     "metadata": {
      "needs_background": "light"
     },
     "output_type": "display_data"
    }
   ],
   "source": [
    "plt.figure(figsize=(9,5))\n",
    "plt.plot(np.arange(len(loss_list1)), loss_list1)\n",
    "plt.scatter(np.arange(len(loss_list1)),loss_list1)\n",
    "plt.xlabel(\"Time in epochs\")\n",
    "plt.ylabel(\"Loss\")\n",
    "plt.show()\n",
    "plt.figure(figsize=(9,5))\n",
    "plt.plot(np.arange(len(loss_list2)),loss_list2)\n",
    "plt.scatter(np.arange(len(loss_list2)),loss_list2)\n",
    "plt.xlabel(\"Time in epochs\")\n",
    "plt.ylabel(\"Loss\")\n",
    "plt.show()\n",
    "plt.figure(figsize=(9,5))\n",
    "plt.plot(np.arange(len(loss_list3)),loss_list3)\n",
    "plt.scatter(np.arange(len(loss_list3)),loss_list3)\n",
    "plt.xlabel(\"Time in epochs\")\n",
    "plt.ylabel(\"Loss\")\n",
    "plt.show()"
   ]
  },
  {
   "cell_type": "code",
   "execution_count": 43,
   "metadata": {},
   "outputs": [
    {
     "data": {
      "text/html": [
       "<div>\n",
       "<style scoped>\n",
       "    .dataframe tbody tr th:only-of-type {\n",
       "        vertical-align: middle;\n",
       "    }\n",
       "\n",
       "    .dataframe tbody tr th {\n",
       "        vertical-align: top;\n",
       "    }\n",
       "\n",
       "    .dataframe thead th {\n",
       "        text-align: right;\n",
       "    }\n",
       "</style>\n",
       "<table border=\"1\" class=\"dataframe\">\n",
       "  <thead>\n",
       "    <tr style=\"text-align: right;\">\n",
       "      <th></th>\n",
       "      <th>coef1</th>\n",
       "      <th>coef2</th>\n",
       "      <th>coef3</th>\n",
       "    </tr>\n",
       "  </thead>\n",
       "  <tbody>\n",
       "    <tr>\n",
       "      <th>DAY_OF_WEEK</th>\n",
       "      <td>-0.969552</td>\n",
       "      <td>0.390760</td>\n",
       "      <td>0.524396</td>\n",
       "    </tr>\n",
       "    <tr>\n",
       "      <th>AIRLINE</th>\n",
       "      <td>1.928912</td>\n",
       "      <td>1.090846</td>\n",
       "      <td>0.970482</td>\n",
       "    </tr>\n",
       "    <tr>\n",
       "      <th>ORIGIN_AIRPORT</th>\n",
       "      <td>1.865721</td>\n",
       "      <td>-0.767857</td>\n",
       "      <td>-1.002472</td>\n",
       "    </tr>\n",
       "    <tr>\n",
       "      <th>DESTINATION_AIRPORT</th>\n",
       "      <td>1.291707</td>\n",
       "      <td>-0.141934</td>\n",
       "      <td>-0.317062</td>\n",
       "    </tr>\n",
       "    <tr>\n",
       "      <th>DEPARTURE_TIME</th>\n",
       "      <td>33.739313</td>\n",
       "      <td>7.902163</td>\n",
       "      <td>5.758521</td>\n",
       "    </tr>\n",
       "    <tr>\n",
       "      <th>ARRIVAL_TIME</th>\n",
       "      <td>-14.588084</td>\n",
       "      <td>-3.835460</td>\n",
       "      <td>-3.389467</td>\n",
       "    </tr>\n",
       "    <tr>\n",
       "      <th>ARRIVAL_DELAY</th>\n",
       "      <td>473.762283</td>\n",
       "      <td>1728.569773</td>\n",
       "      <td>1816.924394</td>\n",
       "    </tr>\n",
       "  </tbody>\n",
       "</table>\n",
       "</div>"
      ],
      "text/plain": [
       "                          coef1        coef2        coef3\n",
       "DAY_OF_WEEK           -0.969552     0.390760     0.524396\n",
       "AIRLINE                1.928912     1.090846     0.970482\n",
       "ORIGIN_AIRPORT         1.865721    -0.767857    -1.002472\n",
       "DESTINATION_AIRPORT    1.291707    -0.141934    -0.317062\n",
       "DEPARTURE_TIME        33.739313     7.902163     5.758521\n",
       "ARRIVAL_TIME         -14.588084    -3.835460    -3.389467\n",
       "ARRIVAL_DELAY        473.762283  1728.569773  1816.924394"
      ]
     },
     "execution_count": 43,
     "metadata": {},
     "output_type": "execute_result"
    }
   ],
   "source": [
    "bikesgdr=pd.DataFrame([sgd1.coef_,sgd2.coef_,sgd3.coef_],index=['coef1','coef2','coef3'],columns=X.columns)\n",
    "bikesgdr.transpose()"
   ]
  },
  {
   "cell_type": "code",
   "execution_count": 44,
   "metadata": {},
   "outputs": [
    {
     "data": {
      "text/plain": [
       "<matplotlib.collections.PathCollection at 0x15b83eb4640>"
      ]
     },
     "execution_count": 44,
     "metadata": {},
     "output_type": "execute_result"
    },
    {
     "data": {
      "image/png": "[encoded data removed]",
      "text/plain": [
       "<Figure size 432x288 with 1 Axes>"
      ]
     },
     "metadata": {
      "needs_background": "light"
     },
     "output_type": "display_data"
    }
   ],
   "source": [
    "plt.scatter(fy, y)"
   ]
  },
  {
   "cell_type": "code",
   "execution_count": 50,
   "metadata": {},
   "outputs": [
    {
     "name": "stdout",
     "output_type": "stream",
     "text": [
      "-- Epoch 1\n",
      "Norm: 1453.20, NNZs: 7, Bias: -59.796021, T: 4571206, Avg. loss: 246.694008\n",
      "Total training time: 1.64 seconds.\n",
      "MAE :  8.686081\n",
      "MSE :  192.602747\n",
      "RMSE :  13.878139\n",
      "R2 :  0.859379\n"
     ]
    },
    {
     "data": {
      "image/png": "[encoded data removed]",
      "text/plain": [
       "<Figure size 432x288 with 1 Axes>"
      ]
     },
     "metadata": {
      "needs_background": "light"
     },
     "output_type": "display_data"
    }
   ],
   "source": [
    "from sklearn.linear_model import SGDRegressor\n",
    "sgd = SGDRegressor(loss=\"squared_loss\", learning_rate='constant', eta0=0.001, penalty=None, max_iter=1,\n",
    "                   average=False, random_state=2010, verbose=1)\n",
    "\n",
    "sgd.fit(X_train,Y_train)\n",
    "pred = sgd.predict(X_test)\n",
    "\n",
    "plt.scatter(Y_test,pred)\n",
    "\n",
    "print(\"MAE : % f\" %(MAE(Y_test, pred)))\n",
    "print(\"MSE : % f\" %(MSE(Y_test, pred)))\n",
    "print(\"RMSE : % f\" %(np.sqrt(MSE(Y_test, pred))))\n",
    "print(\"R2 : % f\" %r2(Y_test, pred))"
   ]
  },
  {
   "cell_type": "code",
   "execution_count": 46,
   "metadata": {},
   "outputs": [
    {
     "data": {
      "text/html": [
       "<div>\n",
       "<style scoped>\n",
       "    .dataframe tbody tr th:only-of-type {\n",
       "        vertical-align: middle;\n",
       "    }\n",
       "\n",
       "    .dataframe tbody tr th {\n",
       "        vertical-align: top;\n",
       "    }\n",
       "\n",
       "    .dataframe thead th {\n",
       "        text-align: right;\n",
       "    }\n",
       "</style>\n",
       "<table border=\"1\" class=\"dataframe\">\n",
       "  <thead>\n",
       "    <tr style=\"text-align: right;\">\n",
       "      <th></th>\n",
       "      <th>count</th>\n",
       "      <th>mean</th>\n",
       "      <th>std</th>\n",
       "      <th>min</th>\n",
       "      <th>25%</th>\n",
       "      <th>50%</th>\n",
       "      <th>75%</th>\n",
       "      <th>max</th>\n",
       "    </tr>\n",
       "  </thead>\n",
       "  <tbody>\n",
       "    <tr>\n",
       "      <th>YEAR</th>\n",
       "      <td>5819079.0</td>\n",
       "      <td>2015.000000</td>\n",
       "      <td>0.000000</td>\n",
       "      <td>2015.0</td>\n",
       "      <td>2015.0</td>\n",
       "      <td>2015.0</td>\n",
       "      <td>2015.0</td>\n",
       "      <td>2015.0</td>\n",
       "    </tr>\n",
       "    <tr>\n",
       "      <th>MONTH</th>\n",
       "      <td>5819079.0</td>\n",
       "      <td>6.524085</td>\n",
       "      <td>3.405137</td>\n",
       "      <td>1.0</td>\n",
       "      <td>4.0</td>\n",
       "      <td>7.0</td>\n",
       "      <td>9.0</td>\n",
       "      <td>12.0</td>\n",
       "    </tr>\n",
       "    <tr>\n",
       "      <th>DAY</th>\n",
       "      <td>5819079.0</td>\n",
       "      <td>15.704594</td>\n",
       "      <td>8.783425</td>\n",
       "      <td>1.0</td>\n",
       "      <td>8.0</td>\n",
       "      <td>16.0</td>\n",
       "      <td>23.0</td>\n",
       "      <td>31.0</td>\n",
       "    </tr>\n",
       "    <tr>\n",
       "      <th>DAY_OF_WEEK</th>\n",
       "      <td>5819079.0</td>\n",
       "      <td>3.926941</td>\n",
       "      <td>1.988845</td>\n",
       "      <td>1.0</td>\n",
       "      <td>2.0</td>\n",
       "      <td>4.0</td>\n",
       "      <td>6.0</td>\n",
       "      <td>7.0</td>\n",
       "    </tr>\n",
       "    <tr>\n",
       "      <th>FLIGHT_NUMBER</th>\n",
       "      <td>5819079.0</td>\n",
       "      <td>2173.092742</td>\n",
       "      <td>1757.063999</td>\n",
       "      <td>1.0</td>\n",
       "      <td>730.0</td>\n",
       "      <td>1690.0</td>\n",
       "      <td>3230.0</td>\n",
       "      <td>9855.0</td>\n",
       "    </tr>\n",
       "    <tr>\n",
       "      <th>SCHEDULED_DEPARTURE</th>\n",
       "      <td>5819079.0</td>\n",
       "      <td>1329.602470</td>\n",
       "      <td>483.751821</td>\n",
       "      <td>1.0</td>\n",
       "      <td>917.0</td>\n",
       "      <td>1325.0</td>\n",
       "      <td>1730.0</td>\n",
       "      <td>2359.0</td>\n",
       "    </tr>\n",
       "    <tr>\n",
       "      <th>DEPARTURE_TIME</th>\n",
       "      <td>5732926.0</td>\n",
       "      <td>1335.204439</td>\n",
       "      <td>496.423260</td>\n",
       "      <td>1.0</td>\n",
       "      <td>921.0</td>\n",
       "      <td>1330.0</td>\n",
       "      <td>1740.0</td>\n",
       "      <td>2400.0</td>\n",
       "    </tr>\n",
       "    <tr>\n",
       "      <th>DEPARTURE_DELAY</th>\n",
       "      <td>5732926.0</td>\n",
       "      <td>9.370158</td>\n",
       "      <td>37.080942</td>\n",
       "      <td>-82.0</td>\n",
       "      <td>-5.0</td>\n",
       "      <td>-2.0</td>\n",
       "      <td>7.0</td>\n",
       "      <td>1988.0</td>\n",
       "    </tr>\n",
       "    <tr>\n",
       "      <th>TAXI_OUT</th>\n",
       "      <td>5730032.0</td>\n",
       "      <td>16.071662</td>\n",
       "      <td>8.895574</td>\n",
       "      <td>1.0</td>\n",
       "      <td>11.0</td>\n",
       "      <td>14.0</td>\n",
       "      <td>19.0</td>\n",
       "      <td>225.0</td>\n",
       "    </tr>\n",
       "    <tr>\n",
       "      <th>WHEELS_OFF</th>\n",
       "      <td>5730032.0</td>\n",
       "      <td>1357.170841</td>\n",
       "      <td>498.009356</td>\n",
       "      <td>1.0</td>\n",
       "      <td>935.0</td>\n",
       "      <td>1343.0</td>\n",
       "      <td>1754.0</td>\n",
       "      <td>2400.0</td>\n",
       "    </tr>\n",
       "    <tr>\n",
       "      <th>SCHEDULED_TIME</th>\n",
       "      <td>5819073.0</td>\n",
       "      <td>141.685892</td>\n",
       "      <td>75.210582</td>\n",
       "      <td>18.0</td>\n",
       "      <td>85.0</td>\n",
       "      <td>123.0</td>\n",
       "      <td>173.0</td>\n",
       "      <td>718.0</td>\n",
       "    </tr>\n",
       "    <tr>\n",
       "      <th>ELAPSED_TIME</th>\n",
       "      <td>5714008.0</td>\n",
       "      <td>137.006189</td>\n",
       "      <td>74.211072</td>\n",
       "      <td>14.0</td>\n",
       "      <td>82.0</td>\n",
       "      <td>118.0</td>\n",
       "      <td>168.0</td>\n",
       "      <td>766.0</td>\n",
       "    </tr>\n",
       "    <tr>\n",
       "      <th>AIR_TIME</th>\n",
       "      <td>5714008.0</td>\n",
       "      <td>113.511628</td>\n",
       "      <td>72.230822</td>\n",
       "      <td>7.0</td>\n",
       "      <td>60.0</td>\n",
       "      <td>94.0</td>\n",
       "      <td>144.0</td>\n",
       "      <td>690.0</td>\n",
       "    </tr>\n",
       "    <tr>\n",
       "      <th>DISTANCE</th>\n",
       "      <td>5819079.0</td>\n",
       "      <td>822.356495</td>\n",
       "      <td>607.784287</td>\n",
       "      <td>21.0</td>\n",
       "      <td>373.0</td>\n",
       "      <td>647.0</td>\n",
       "      <td>1062.0</td>\n",
       "      <td>4983.0</td>\n",
       "    </tr>\n",
       "    <tr>\n",
       "      <th>WHEELS_ON</th>\n",
       "      <td>5726566.0</td>\n",
       "      <td>1471.468609</td>\n",
       "      <td>522.187945</td>\n",
       "      <td>1.0</td>\n",
       "      <td>1054.0</td>\n",
       "      <td>1509.0</td>\n",
       "      <td>1911.0</td>\n",
       "      <td>2400.0</td>\n",
       "    </tr>\n",
       "    <tr>\n",
       "      <th>TAXI_IN</th>\n",
       "      <td>5726566.0</td>\n",
       "      <td>7.434971</td>\n",
       "      <td>5.638548</td>\n",
       "      <td>1.0</td>\n",
       "      <td>4.0</td>\n",
       "      <td>6.0</td>\n",
       "      <td>9.0</td>\n",
       "      <td>248.0</td>\n",
       "    </tr>\n",
       "    <tr>\n",
       "      <th>SCHEDULED_ARRIVAL</th>\n",
       "      <td>5819079.0</td>\n",
       "      <td>1493.808249</td>\n",
       "      <td>507.164696</td>\n",
       "      <td>1.0</td>\n",
       "      <td>1110.0</td>\n",
       "      <td>1520.0</td>\n",
       "      <td>1918.0</td>\n",
       "      <td>2400.0</td>\n",
       "    </tr>\n",
       "    <tr>\n",
       "      <th>ARRIVAL_TIME</th>\n",
       "      <td>5726566.0</td>\n",
       "      <td>1476.491188</td>\n",
       "      <td>526.319737</td>\n",
       "      <td>1.0</td>\n",
       "      <td>1059.0</td>\n",
       "      <td>1512.0</td>\n",
       "      <td>1917.0</td>\n",
       "      <td>2400.0</td>\n",
       "    </tr>\n",
       "    <tr>\n",
       "      <th>ARRIVAL_DELAY</th>\n",
       "      <td>5714008.0</td>\n",
       "      <td>4.407057</td>\n",
       "      <td>39.271297</td>\n",
       "      <td>-87.0</td>\n",
       "      <td>-13.0</td>\n",
       "      <td>-5.0</td>\n",
       "      <td>8.0</td>\n",
       "      <td>1971.0</td>\n",
       "    </tr>\n",
       "    <tr>\n",
       "      <th>DIVERTED</th>\n",
       "      <td>5819079.0</td>\n",
       "      <td>0.002610</td>\n",
       "      <td>0.051020</td>\n",
       "      <td>0.0</td>\n",
       "      <td>0.0</td>\n",
       "      <td>0.0</td>\n",
       "      <td>0.0</td>\n",
       "      <td>1.0</td>\n",
       "    </tr>\n",
       "    <tr>\n",
       "      <th>CANCELLED</th>\n",
       "      <td>5819079.0</td>\n",
       "      <td>0.015446</td>\n",
       "      <td>0.123320</td>\n",
       "      <td>0.0</td>\n",
       "      <td>0.0</td>\n",
       "      <td>0.0</td>\n",
       "      <td>0.0</td>\n",
       "      <td>1.0</td>\n",
       "    </tr>\n",
       "    <tr>\n",
       "      <th>AIR_SYSTEM_DELAY</th>\n",
       "      <td>1063439.0</td>\n",
       "      <td>13.480568</td>\n",
       "      <td>28.003679</td>\n",
       "      <td>0.0</td>\n",
       "      <td>0.0</td>\n",
       "      <td>2.0</td>\n",
       "      <td>18.0</td>\n",
       "      <td>1134.0</td>\n",
       "    </tr>\n",
       "    <tr>\n",
       "      <th>SECURITY_DELAY</th>\n",
       "      <td>1063439.0</td>\n",
       "      <td>0.076154</td>\n",
       "      <td>2.143460</td>\n",
       "      <td>0.0</td>\n",
       "      <td>0.0</td>\n",
       "      <td>0.0</td>\n",
       "      <td>0.0</td>\n",
       "      <td>573.0</td>\n",
       "    </tr>\n",
       "    <tr>\n",
       "      <th>AIRLINE_DELAY</th>\n",
       "      <td>1063439.0</td>\n",
       "      <td>18.969547</td>\n",
       "      <td>48.161642</td>\n",
       "      <td>0.0</td>\n",
       "      <td>0.0</td>\n",
       "      <td>2.0</td>\n",
       "      <td>19.0</td>\n",
       "      <td>1971.0</td>\n",
       "    </tr>\n",
       "    <tr>\n",
       "      <th>LATE_AIRCRAFT_DELAY</th>\n",
       "      <td>1063439.0</td>\n",
       "      <td>23.472838</td>\n",
       "      <td>43.197018</td>\n",
       "      <td>0.0</td>\n",
       "      <td>0.0</td>\n",
       "      <td>3.0</td>\n",
       "      <td>29.0</td>\n",
       "      <td>1331.0</td>\n",
       "    </tr>\n",
       "    <tr>\n",
       "      <th>WEATHER_DELAY</th>\n",
       "      <td>1063439.0</td>\n",
       "      <td>2.915290</td>\n",
       "      <td>20.433336</td>\n",
       "      <td>0.0</td>\n",
       "      <td>0.0</td>\n",
       "      <td>0.0</td>\n",
       "      <td>0.0</td>\n",
       "      <td>1211.0</td>\n",
       "    </tr>\n",
       "  </tbody>\n",
       "</table>\n",
       "</div>"
      ],
      "text/plain": [
       "                         count         mean          std     min     25%  \\\n",
       "YEAR                 5819079.0  2015.000000     0.000000  2015.0  2015.0   \n",
       "MONTH                5819079.0     6.524085     3.405137     1.0     4.0   \n",
       "DAY                  5819079.0    15.704594     8.783425     1.0     8.0   \n",
       "DAY_OF_WEEK          5819079.0     3.926941     1.988845     1.0     2.0   \n",
       "FLIGHT_NUMBER        5819079.0  2173.092742  1757.063999     1.0   730.0   \n",
       "SCHEDULED_DEPARTURE  5819079.0  1329.602470   483.751821     1.0   917.0   \n",
       "DEPARTURE_TIME       5732926.0  1335.204439   496.423260     1.0   921.0   \n",
       "DEPARTURE_DELAY      5732926.0     9.370158    37.080942   -82.0    -5.0   \n",
       "TAXI_OUT             5730032.0    16.071662     8.895574     1.0    11.0   \n",
       "WHEELS_OFF           5730032.0  1357.170841   498.009356     1.0   935.0   \n",
       "SCHEDULED_TIME       5819073.0   141.685892    75.210582    18.0    85.0   \n",
       "ELAPSED_TIME         5714008.0   137.006189    74.211072    14.0    82.0   \n",
       "AIR_TIME             5714008.0   113.511628    72.230822     7.0    60.0   \n",
       "DISTANCE             5819079.0   822.356495   607.784287    21.0   373.0   \n",
       "WHEELS_ON            5726566.0  1471.468609   522.187945     1.0  1054.0   \n",
       "TAXI_IN              5726566.0     7.434971     5.638548     1.0     4.0   \n",
       "SCHEDULED_ARRIVAL    5819079.0  1493.808249   507.164696     1.0  1110.0   \n",
       "ARRIVAL_TIME         5726566.0  1476.491188   526.319737     1.0  1059.0   \n",
       "ARRIVAL_DELAY        5714008.0     4.407057    39.271297   -87.0   -13.0   \n",
       "DIVERTED             5819079.0     0.002610     0.051020     0.0     0.0   \n",
       "CANCELLED            5819079.0     0.015446     0.123320     0.0     0.0   \n",
       "AIR_SYSTEM_DELAY     1063439.0    13.480568    28.003679     0.0     0.0   \n",
       "SECURITY_DELAY       1063439.0     0.076154     2.143460     0.0     0.0   \n",
       "AIRLINE_DELAY        1063439.0    18.969547    48.161642     0.0     0.0   \n",
       "LATE_AIRCRAFT_DELAY  1063439.0    23.472838    43.197018     0.0     0.0   \n",
       "WEATHER_DELAY        1063439.0     2.915290    20.433336     0.0     0.0   \n",
       "\n",
       "                        50%     75%     max  \n",
       "YEAR                 2015.0  2015.0  2015.0  \n",
       "MONTH                   7.0     9.0    12.0  \n",
       "DAY                    16.0    23.0    31.0  \n",
       "DAY_OF_WEEK             4.0     6.0     7.0  \n",
       "FLIGHT_NUMBER        1690.0  3230.0  9855.0  \n",
       "SCHEDULED_DEPARTURE  1325.0  1730.0  2359.0  \n",
       "DEPARTURE_TIME       1330.0  1740.0  2400.0  \n",
       "DEPARTURE_DELAY        -2.0     7.0  1988.0  \n",
       "TAXI_OUT               14.0    19.0   225.0  \n",
       "WHEELS_OFF           1343.0  1754.0  2400.0  \n",
       "SCHEDULED_TIME        123.0   173.0   718.0  \n",
       "ELAPSED_TIME          118.0   168.0   766.0  \n",
       "AIR_TIME               94.0   144.0   690.0  \n",
       "DISTANCE              647.0  1062.0  4983.0  \n",
       "WHEELS_ON            1509.0  1911.0  2400.0  \n",
       "TAXI_IN                 6.0     9.0   248.0  \n",
       "SCHEDULED_ARRIVAL    1520.0  1918.0  2400.0  \n",
       "ARRIVAL_TIME         1512.0  1917.0  2400.0  \n",
       "ARRIVAL_DELAY          -5.0     8.0  1971.0  \n",
       "DIVERTED                0.0     0.0     1.0  \n",
       "CANCELLED               0.0     0.0     1.0  \n",
       "AIR_SYSTEM_DELAY        2.0    18.0  1134.0  \n",
       "SECURITY_DELAY          0.0     0.0   573.0  \n",
       "AIRLINE_DELAY           2.0    19.0  1971.0  \n",
       "LATE_AIRCRAFT_DELAY     3.0    29.0  1331.0  \n",
       "WEATHER_DELAY           0.0     0.0  1211.0  "
      ]
     },
     "execution_count": 46,
     "metadata": {},
     "output_type": "execute_result"
    }
   ],
   "source": [
    "df.describe().T"
   ]
  },
  {
   "cell_type": "code",
   "execution_count": 47,
   "metadata": {},
   "outputs": [
    {
     "data": {
      "text/html": [
       "<div>\n",
       "<style scoped>\n",
       "    .dataframe tbody tr th:only-of-type {\n",
       "        vertical-align: middle;\n",
       "    }\n",
       "\n",
       "    .dataframe tbody tr th {\n",
       "        vertical-align: top;\n",
       "    }\n",
       "\n",
       "    .dataframe thead th {\n",
       "        text-align: right;\n",
       "    }\n",
       "</style>\n",
       "<table border=\"1\" class=\"dataframe\">\n",
       "  <thead>\n",
       "    <tr style=\"text-align: right;\">\n",
       "      <th></th>\n",
       "      <th>count</th>\n",
       "      <th>mean</th>\n",
       "      <th>std</th>\n",
       "      <th>min</th>\n",
       "      <th>25%</th>\n",
       "      <th>50%</th>\n",
       "      <th>75%</th>\n",
       "      <th>max</th>\n",
       "    </tr>\n",
       "  </thead>\n",
       "  <tbody>\n",
       "    <tr>\n",
       "      <th>DAY_OF_WEEK</th>\n",
       "      <td>5714008.0</td>\n",
       "      <td>3.932643</td>\n",
       "      <td>1.985967</td>\n",
       "      <td>1.0</td>\n",
       "      <td>2.0</td>\n",
       "      <td>4.0</td>\n",
       "      <td>6.0</td>\n",
       "      <td>7.0</td>\n",
       "    </tr>\n",
       "    <tr>\n",
       "      <th>AIRLINE</th>\n",
       "      <td>5714008.0</td>\n",
       "      <td>6.754759</td>\n",
       "      <td>4.640073</td>\n",
       "      <td>0.0</td>\n",
       "      <td>3.0</td>\n",
       "      <td>7.0</td>\n",
       "      <td>11.0</td>\n",
       "      <td>13.0</td>\n",
       "    </tr>\n",
       "    <tr>\n",
       "      <th>ORIGIN_AIRPORT</th>\n",
       "      <td>5714008.0</td>\n",
       "      <td>440.182207</td>\n",
       "      <td>123.613161</td>\n",
       "      <td>0.0</td>\n",
       "      <td>372.0</td>\n",
       "      <td>468.0</td>\n",
       "      <td>534.0</td>\n",
       "      <td>627.0</td>\n",
       "    </tr>\n",
       "    <tr>\n",
       "      <th>DESTINATION_AIRPORT</th>\n",
       "      <td>5714008.0</td>\n",
       "      <td>441.206902</td>\n",
       "      <td>123.651365</td>\n",
       "      <td>0.0</td>\n",
       "      <td>373.0</td>\n",
       "      <td>469.0</td>\n",
       "      <td>535.0</td>\n",
       "      <td>628.0</td>\n",
       "    </tr>\n",
       "    <tr>\n",
       "      <th>DEPARTURE_TIME</th>\n",
       "      <td>5714008.0</td>\n",
       "      <td>1335.065627</td>\n",
       "      <td>496.419817</td>\n",
       "      <td>1.0</td>\n",
       "      <td>921.0</td>\n",
       "      <td>1330.0</td>\n",
       "      <td>1740.0</td>\n",
       "      <td>2400.0</td>\n",
       "    </tr>\n",
       "    <tr>\n",
       "      <th>DEPARTURE_DELAY</th>\n",
       "      <td>5714008.0</td>\n",
       "      <td>9.294842</td>\n",
       "      <td>36.889724</td>\n",
       "      <td>-82.0</td>\n",
       "      <td>-5.0</td>\n",
       "      <td>-2.0</td>\n",
       "      <td>7.0</td>\n",
       "      <td>1988.0</td>\n",
       "    </tr>\n",
       "    <tr>\n",
       "      <th>ARRIVAL_TIME</th>\n",
       "      <td>5714008.0</td>\n",
       "      <td>1476.373460</td>\n",
       "      <td>525.973017</td>\n",
       "      <td>1.0</td>\n",
       "      <td>1058.0</td>\n",
       "      <td>1512.0</td>\n",
       "      <td>1916.0</td>\n",
       "      <td>2400.0</td>\n",
       "    </tr>\n",
       "    <tr>\n",
       "      <th>ARRIVAL_DELAY</th>\n",
       "      <td>5714008.0</td>\n",
       "      <td>4.407057</td>\n",
       "      <td>39.271297</td>\n",
       "      <td>-87.0</td>\n",
       "      <td>-13.0</td>\n",
       "      <td>-5.0</td>\n",
       "      <td>8.0</td>\n",
       "      <td>1971.0</td>\n",
       "    </tr>\n",
       "  </tbody>\n",
       "</table>\n",
       "</div>"
      ],
      "text/plain": [
       "                         count         mean         std   min     25%     50%  \\\n",
       "DAY_OF_WEEK          5714008.0     3.932643    1.985967   1.0     2.0     4.0   \n",
       "AIRLINE              5714008.0     6.754759    4.640073   0.0     3.0     7.0   \n",
       "ORIGIN_AIRPORT       5714008.0   440.182207  123.613161   0.0   372.0   468.0   \n",
       "DESTINATION_AIRPORT  5714008.0   441.206902  123.651365   0.0   373.0   469.0   \n",
       "DEPARTURE_TIME       5714008.0  1335.065627  496.419817   1.0   921.0  1330.0   \n",
       "DEPARTURE_DELAY      5714008.0     9.294842   36.889724 -82.0    -5.0    -2.0   \n",
       "ARRIVAL_TIME         5714008.0  1476.373460  525.973017   1.0  1058.0  1512.0   \n",
       "ARRIVAL_DELAY        5714008.0     4.407057   39.271297 -87.0   -13.0    -5.0   \n",
       "\n",
       "                        75%     max  \n",
       "DAY_OF_WEEK             6.0     7.0  \n",
       "AIRLINE                11.0    13.0  \n",
       "ORIGIN_AIRPORT        534.0   627.0  \n",
       "DESTINATION_AIRPORT   535.0   628.0  \n",
       "DEPARTURE_TIME       1740.0  2400.0  \n",
       "DEPARTURE_DELAY         7.0  1988.0  \n",
       "ARRIVAL_TIME         1916.0  2400.0  \n",
       "ARRIVAL_DELAY           8.0  1971.0  "
      ]
     },
     "execution_count": 47,
     "metadata": {},
     "output_type": "execute_result"
    }
   ],
   "source": [
    "df1.describe().T"
   ]
  },
  {
   "cell_type": "markdown",
   "metadata": {},
   "source": [
    "### Questions & Hypothesis"
   ]
  },
  {
   "cell_type": "markdown",
   "metadata": {},
   "source": [
    "linear regression, logistic regression, RF_regression, XGBoost_regression, SGDRegressor, SVM_regression"
   ]
  },
  {
   "cell_type": "markdown",
   "metadata": {},
   "source": [
    "Which regression algorithm can better handle scalability over time?"
   ]
  },
  {
   "cell_type": "markdown",
   "metadata": {},
   "source": [
    "Which regression method achieves less RMSE in prediction?"
   ]
  },
  {
   "cell_type": "markdown",
   "metadata": {},
   "source": [
    "Is the RMSE of some of the reggression algorithms correlated with the scalability?"
   ]
  },
  {
   "cell_type": "markdown",
   "metadata": {},
   "source": [
    "Null Hypothesis 1: When we use more instances from our data, then some regression methods achieves less RMSE."
   ]
  },
  {
   "cell_type": "markdown",
   "metadata": {},
   "source": [
    "Null Hypothesis 2: Linear regression has equal RMSE effects with respect to scalability."
   ]
  },
  {
   "cell_type": "markdown",
   "metadata": {},
   "source": [
    "Null Hypothesis 3: RFregression and XGBoost regression has the same RMSE results with respect to scalability."
   ]
  },
  {
   "cell_type": "markdown",
   "metadata": {},
   "source": [
    "Null Hypothesis 4: All the regression methods (that we use) are equal robust with scalability."
   ]
  },
  {
   "cell_type": "markdown",
   "metadata": {},
   "source": [
    "Null Hypothesis 5: "
   ]
  },
  {
   "cell_type": "markdown",
   "metadata": {},
   "source": [
    "Σε ποιες περιπτώσεις χρήσης σχετικές με traffic management τα πάνε καλά;\n"
   ]
  },
  {
   "cell_type": "markdown",
   "metadata": {},
   "source": [
    "Τι μέγεθος δεδομένων είναι το μέγιστο για να έχουμε π.χ. πρόβλεψη σε\n",
    "εύλογο χρονικό διάστημα;"
   ]
  },
  {
   "cell_type": "code",
   "execution_count": null,
   "metadata": {},
   "outputs": [],
   "source": []
  }
 ],
 "metadata": {
  "kernelspec": {
   "display_name": "Python 3",
   "language": "python",
   "name": "python3"
  },
  "language_info": {
   "codemirror_mode": {
    "name": "ipython",
    "version": 3
   },
   "file_extension": ".py",
   "mimetype": "text/x-python",
   "name": "python",
   "nbconvert_exporter": "python",
   "pygments_lexer": "ipython3",
   "version": "3.8.3"
  }
 },
 "nbformat": 4,
 "nbformat_minor": 4
}
